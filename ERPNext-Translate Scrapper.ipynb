{
 "cells": [
  {
   "cell_type": "code",
   "execution_count": 1,
   "metadata": {
    "collapsed": false
   },
   "outputs": [],
   "source": [
    "    import requests\n",
    "    import pandas as pd\n",
    "    from bs4 import BeautifulSoup\n",
    "    \n",
    "    english = []\n",
    "    french = []\n",
    "    \n",
    "    url = \"https://translate.erpnext.com/view?lang=fr&c=D\"\n",
    "    response = requests.get(url)\n",
    "    soup = BeautifulSoup(response.text, 'lxml')\n",
    "    rows = soup.find_all('div',attrs={\"class\" : \"single-message\"})\n",
    "    for row in rows:\n",
    "        nonTranslated_row = row.find('i').previousSibling\n",
    "        english.append(nonTranslated_row.string.strip())\n",
    "        \n",
    "        translated_row = row.find('div',attrs={\"class\" : \"translated\"})\n",
    "        french.append(translated_row.string.strip())\n",
    "        \n",
    "    df = pd.DataFrame( data = {\"English\": english, \"Français\": french})\n",
    "    df.head(10)\n",
    "    \n",
    "    df.to_csv('d.csv', encoding=\"utf-8\")"
   ]
  }
 ],
 "metadata": {
  "kernelspec": {
   "display_name": "Python 3",
   "language": "python",
   "name": "python3"
  },
  "language_info": {
   "codemirror_mode": {
    "name": "ipython",
    "version": 3
   },
   "file_extension": ".py",
   "mimetype": "text/x-python",
   "name": "python",
   "nbconvert_exporter": "python",
   "pygments_lexer": "ipython3",
   "version": "3.5.2"
  }
 },
 "nbformat": 4,
 "nbformat_minor": 1
}
